{
 "cells": [
  {
   "cell_type": "code",
   "execution_count": null,
   "metadata": {},
   "outputs": [],
   "source": [
    "using HePPCAT, LinearAlgebra, Plots, Random, Statistics, StatsPlots, Printf\n",
    "using Plots.PlotMeasures\n",
    "include(\"plotting.jl\")\n",
    "include(\"petrels.jl\")\n",
    "include(\"grouse.jl\")\n",
    "include(\"shasta1.jl\")\n",
    "include(\"shasta2.jl\")\n",
    "include(\"batchHPPCACompletion.jl\")"
   ]
  },
  {
   "cell_type": "code",
   "execution_count": null,
   "metadata": {},
   "outputs": [],
   "source": [
    "function Ωloglikelihood(M::HePPCATModel,Y, Ω)\n",
    "    d, k = size(M.U)\n",
    "    n, L = size.(Y,2), length(Y)\n",
    "    \n",
    "    value = 0\n",
    "    for l=1:L\n",
    "        for i=1:n[l]\n",
    "            idx = findall(>(0), Ω[l][:,i])\n",
    "            yΩ = Y[l][idx,i]\n",
    "            FΩ = M.F[idx,:]\n",
    "            FΩsvd = svd(FΩ)\n",
    "            value += norm(sqrt(Diagonal((FΩsvd.S./M.v[l])./(FΩsvd.S .+ M.v[l])))*FΩsvd.U'*yΩ)^2 -\n",
    "                        sum(log.(FΩsvd.S .+ M.v[l])) - (length(idx)-k)*log(M.v[l]) - norm(yΩ)^2/M.v[l]\n",
    "        end\n",
    "    end\n",
    "    return 1/2*value\n",
    "    \n",
    "end"
   ]
  },
  {
   "cell_type": "code",
   "execution_count": null,
   "metadata": {},
   "outputs": [],
   "source": [
    "function Ωloglikelihood2(M::HePPCATModel,Y, Ω)\n",
    "    d, k = size(M.U)\n",
    "    n, L = size.(Y,2), length(Y)\n",
    "    \n",
    "    return 1/2*sum(1:L) do l\n",
    "        sum(1:n[l]) do i\n",
    "            idx = findall(>(0), Ω[l][:,i])\n",
    "            yΩ = Y[l][idx,i]\n",
    "            FΩ = M.F[idx,:]\n",
    "            FΩsvd = svd(FΩ)\n",
    "            norm(sqrt(Diagonal((FΩsvd.S./M.v[l])./(FΩsvd.S .+ M.v[l])))*FΩsvd.U'*yΩ)^2 -\n",
    "                        sum(log.(FΩsvd.S .+ M.v[l])) - (length(idx)-k)*log(M.v[l]) - norm(yΩ)^2/M.v[l]\n",
    "        end\n",
    "    end\n",
    "    \n",
    "end"
   ]
  },
  {
   "cell_type": "code",
   "execution_count": null,
   "metadata": {},
   "outputs": [],
   "source": [
    "# Ωloglikelihood(Mppca,Ytrue,Ω)\n",
    "# Ωloglikelihood2(Mppca,Ytrue,Ω)\n",
    "# method1 = []\n",
    "# method2 = []\n",
    "# for _=1:100\n",
    "    \n",
    "#     telapsed = @elapsed begin\n",
    "#         Ωloglikelihood(Mppca,Ytrue,Ω)\n",
    "#     end\n",
    "#     push!(method1,telapsed)\n",
    "    \n",
    "#     telapsed = @elapsed begin\n",
    "#         Ωloglikelihood2(Mppca,Ytrue,Ω)\n",
    "#     end\n",
    "#     push!(method2,telapsed)\n",
    "    \n",
    "# end"
   ]
  },
  {
   "cell_type": "code",
   "execution_count": null,
   "metadata": {},
   "outputs": [],
   "source": [
    "# mean(method1)"
   ]
  },
  {
   "cell_type": "code",
   "execution_count": null,
   "metadata": {},
   "outputs": [],
   "source": [
    "# mean(method2)"
   ]
  },
  {
   "cell_type": "code",
   "execution_count": null,
   "metadata": {},
   "outputs": [],
   "source": [
    "# Ωloglikelihood(Mppca,Ytrue,Ω)"
   ]
  },
  {
   "cell_type": "code",
   "execution_count": null,
   "metadata": {},
   "outputs": [],
   "source": [
    "# loglikelihood(Mppca,Ytrue)"
   ]
  },
  {
   "cell_type": "markdown",
   "metadata": {},
   "source": [
    "### Batch vs. Streaming on missing data: Static subspace"
   ]
  },
  {
   "cell_type": "code",
   "execution_count": null,
   "metadata": {},
   "outputs": [],
   "source": [
    "# d, n, v, λ = 50, [200,800], [1,4], [4,2,1]\n",
    "# d, n, v, λ = 50, [200,800], [0.1,1], [4,2,1]\n",
    "# d, n, v, λ = 50, [200,800], [1e-4,1e-2], [4,2,1]\n",
    "\n",
    "# d, n, v, λ = 100, [500,2000], [1e-4,1e-2], [4,2,1]\n",
    "# d, n, v, λ = 100, [2500,10000], [1e-4,1e-2], [4,2,1]\n",
    "# d, n, v, λ = 100, [3000,12000], [1e-4,1e-2], [4,2,1]\n",
    "\n",
    "d, n, v, λ = 100, [5000,20000], [1e-4,1e-2], [4,2,1]\n",
    "# d, n, v, λ = 100, [3000,9000], [1e-4,1e-2], [4,2,1]\n",
    "\n",
    "# d, n, v, λ = 1000, [1000,4000,20000], [1e-4,1e-2,1e-1], sort(4*rand(10) .+ 0.5,rev=true)\n",
    "# d, n, v, λ = 500, [3000,12000], [1e-4,1e-2], [5,4,3,2,1]\n",
    "\n",
    "# d, n, v, λ = 50, [500,2000], [1e-2,1e-2], [4,2,1]\n",
    "\n",
    "# d, n, v, λ = 50, [100,1000], [1e-2,1], [4,2,1]\n",
    "k, L = length(λ), length(v)\n",
    "khat = k;\n",
    "\n",
    "num_trials = 10\n",
    "# num_trials = 1\n",
    "\n",
    "# Generate data\n",
    "Random.seed!(0)\n",
    "U = qr(rand(d,k)).Q[:,1:k]\n",
    "F = U*sqrt(Diagonal(λ))\n",
    "missing = 0.5\n",
    "# missing = 0.8\n",
    "Ω = [(rand(d,n[l]) .> missing) for l in 1:L]\n",
    "Ytrue = [F*randn(k,n[l]) + sqrt(v[l])*randn(d,n[l]) for l in 1:L]\n",
    "Y = [Ω[l] .* Ytrue[l] for l in 1:L]\n",
    "\n",
    "### Streaming-setup\n",
    "Ymat_true = hcat([Ytrue[l] for l=1:L]...)\n",
    "Ymat = hcat([Y[l] for l=1:L]...)\n",
    "vmat = vcat([v[l]*ones(n[l]) for l=1:L]...)\n",
    "groups = Int64.(vcat([l*ones(n[l]) for l=1:L]...));\n",
    "ΩY = abs.(Ymat) .> 0\n",
    "\n",
    "dataIdx = randperm(sum(n))\n",
    "Ymat = Ymat[:,dataIdx]\n",
    "Ymat_true = Ymat_true[:,dataIdx]\n",
    "ΩY = ΩY[:,dataIdx]\n",
    "groups = groups[dataIdx]\n",
    "\n",
    "### True model\n",
    "Mtrue = HePPCATModel(U,λ,I(k),v)\n",
    "\n",
    "# Ltrue = loglikelihood(Mtrue,Ytrue)\n",
    "# stats_fcn(M) = loglikelihood(M,Ytrue) - Ltrue\n",
    "\n",
    "# Ltrue = Ωloglikelihood(Mtrue,Ytrue,Ω)\n",
    "# stats_fcn(M) = Ωloglikelihood(M,Ytrue,Ω) - Ltrue\n",
    "\n",
    "Ltrue = Ωloglikelihood2(Mtrue,Ytrue,Ω)\n",
    "stats_fcn(M) = Ωloglikelihood2(M,Ytrue,Ω) - Ltrue"
   ]
  },
  {
   "cell_type": "code",
   "execution_count": null,
   "metadata": {},
   "outputs": [],
   "source": [
    "function Fmeasure(M)\n",
    "#     Fhat = M.U * Diagonal(M.λ).^(0.5) * M.Vt\n",
    "    \n",
    "#     return norm(M.F*M.F' - F*F') / norm(F*F')\n",
    "    Uf = svd(F).U[:,1:k]\n",
    "    Uhat = M.U\n",
    "    return norm(Uhat*Uhat' - Uf*Uf') / norm(Uf*Uf')\n",
    "end"
   ]
  },
  {
   "cell_type": "code",
   "execution_count": null,
   "metadata": {},
   "outputs": [],
   "source": [
    "### HePPCAT (Batch)\n",
    "heppcat_time_log = []\n",
    "for _=1:1\n",
    "    tHeppcat = @elapsed begin\n",
    "        Mheppcat = heppcat(Y,k,100) \n",
    "    end\n",
    "    push!(heppcat_time_log,tHeppcat)\n",
    "end\n",
    "tHeppcat = median(heppcat_time_log)\n",
    "Mheppcat = heppcat(Y,k,100) \n",
    "\n",
    "### Homoscedastic PPCA\n",
    "cor = sum(Y[l]*Y[l]' for l in 1:L)/sum(n)\n",
    "λh, Uh = eigen(Hermitian(cor),sortby=-)\n",
    "λb = mean(λh[khat+1:end])\n",
    "Mppca = HePPCATModel(Uh[:,1:khat],λh[1:khat] .- λb,I(khat),fill(λb,L))"
   ]
  },
  {
   "cell_type": "code",
   "execution_count": null,
   "metadata": {},
   "outputs": [],
   "source": [
    "# stats_fcn(M) = M.v"
   ]
  },
  {
   "cell_type": "markdown",
   "metadata": {},
   "source": [
    "##### Batch algorithm"
   ]
  },
  {
   "cell_type": "code",
   "execution_count": null,
   "metadata": {},
   "outputs": [],
   "source": [
    "include(\"batchHPPCACompletion.jl\")"
   ]
  },
  {
   "cell_type": "code",
   "execution_count": null,
   "metadata": {},
   "outputs": [],
   "source": [
    "batch_stats_trials = []\n",
    "batch_err_trials = []\n",
    "batch_time_trials = []\n",
    "batch_models = []\n",
    "niters = 50\n",
    "\n",
    "Mbatch = HePPCATModel(Matrix(qr!(randn(d,khat)).Q),rand(khat),I(khat),rand(L))\n",
    "Mbatch, batch_stats_log, batch_err_log, batch_time_log = batchHPPCACompletion(Mbatch,Y,Ω,1,Fmeasure,stats_fcn)\n",
    "\n",
    "Random.seed!(0)\n",
    "for _=1:10\n",
    "    Mbatch = HePPCATModel(Matrix(qr!(randn(d,khat)).Q),rand(khat),I(khat),rand(L))\n",
    "    Mbatch = deepcopy(Mppca)\n",
    "    Mbatch, batch_stats_log, batch_err_log, batch_time_log = batchHPPCACompletion(Mbatch,Y,Ω,niters,Fmeasure,stats_fcn)\n",
    "    push!(batch_stats_trials,batch_stats_log)\n",
    "    push!(batch_err_trials,batch_err_log)\n",
    "    push!(batch_time_trials,batch_time_log)\n",
    "    push!(batch_models,Mbatch)\n",
    "end"
   ]
  },
  {
   "cell_type": "code",
   "execution_count": null,
   "metadata": {},
   "outputs": [],
   "source": [
    "batch_stats_trials[end][end]"
   ]
  },
  {
   "cell_type": "code",
   "execution_count": null,
   "metadata": {},
   "outputs": [],
   "source": [
    "plot()\n",
    "[plot!(trial, label=\"\",color=:blue,alpha=0.5) for trial in batch_stats_trials]\n",
    "hline!([stats_fcn(Mppca)],label=\"PPCA\")\n",
    "hline!([stats_fcn(Mheppcat)],label=\"HePPCAT\")\n",
    "# ylims!(-1e3,Inf)"
   ]
  },
  {
   "cell_type": "markdown",
   "metadata": {},
   "source": [
    "\n",
    "##### SHASTA-PCA-2"
   ]
  },
  {
   "cell_type": "code",
   "execution_count": null,
   "metadata": {},
   "outputs": [],
   "source": [
    "include(\"shasta2.jl\")"
   ]
  },
  {
   "cell_type": "code",
   "execution_count": null,
   "metadata": {},
   "outputs": [],
   "source": [
    "mutable struct LearningRateParams\n",
    "    w::Float64\n",
    "    cf::Float64\n",
    "    cv::Float64\n",
    "end"
   ]
  },
  {
   "cell_type": "code",
   "execution_count": null,
   "metadata": {},
   "outputs": [],
   "source": [
    "shasta_stats_trials = []\n",
    "shasta_err_trials = []\n",
    "shasta_time_trials = []\n",
    "shasta_models = []\n",
    "\n",
    "# w = 0.001\n",
    "w = 1\n",
    "# cf = 0.5\n",
    "# cf = 0.1 ### 75%\n",
    "\n",
    "# cf = 0.01 ###fully-observed - 50%\n",
    "# cv = 1\n",
    "\n",
    "cf = 0.1\n",
    "cv = 0.1\n",
    "# cv = 1\n",
    "\n",
    "num_trials = 1\n",
    "\n",
    "# cv = 0.1\n",
    "δ = 0.1\n",
    "online = false\n",
    "\n",
    "\n",
    "# w = 0.01\n",
    "# # cf = 0.01\n",
    "# cf = 0.01\n",
    "# cv = 0.01\n",
    "# online = true\n",
    "\n",
    "\n",
    "lrparams = LearningRateParams(w,cf,cv)\n",
    "Yrec = deepcopy(Ymat)\n",
    "\n",
    "### Compile the function on a dummy run\n",
    "M0 = HePPCATModel(Matrix(qr!(randn(d,khat)).Q),rand(khat),I(khat),rand(L))\n",
    "Mstream = deepcopy(M0)\n",
    "Mstream, Yrec, stats_log, err_log, time_log = SHASTA_PCA2(Mstream,Ymat,ΩY,groups,lrparams,δ,Fmeasure,stats_fcn,online,10000)\n",
    "\n",
    "Random.seed!(0)\n",
    "for _=1:num_trials\n",
    "    M0 = HePPCATModel(Matrix(qr!(randn(d,khat)).Q),rand(khat),I(khat),rand(L))\n",
    "#     Mstream = deepcopy(M0)\n",
    "    Mstream = deepcopy(Mppca)\n",
    "    Mstream, Yrec, stats_log, err_log, time_log = SHASTA_PCA2(Mstream,Ymat,ΩY,groups,lrparams,δ,Fmeasure,stats_fcn,online,250)\n",
    "    push!(shasta_stats_trials,stats_log)\n",
    "    push!(shasta_err_trials,err_log)\n",
    "    push!(shasta_time_trials,time_log)\n",
    "    push!(shasta_models,Mstream)\n",
    "end"
   ]
  },
  {
   "cell_type": "markdown",
   "metadata": {},
   "source": [
    "##### SHASTA-PCA-1"
   ]
  },
  {
   "cell_type": "code",
   "execution_count": null,
   "metadata": {},
   "outputs": [],
   "source": [
    "shasta2_stats_trials = []\n",
    "shasta2_err_trials = []\n",
    "shasta2_time_trials = []\n",
    "shasta2_models = []\n",
    "\n",
    "# w = 0.001\n",
    "# w = 1\n",
    "# cf = 1\n",
    "# cv = 1\n",
    "Yrec = deepcopy(Ymat)\n",
    "\n",
    "δ = 0.1\n",
    "\n",
    "lrparams = LearningRateParams(w,cf,cv)\n",
    "\n",
    "### Compile the function on a dummy run\n",
    "M0 = HePPCATModel(Matrix(qr!(randn(d,khat)).Q),rand(khat),I(khat),rand(L))\n",
    "Mstream2 = deepcopy(M0)\n",
    "Mstream2, Yrec2, stats_log2, err_log2, time_log2 = SHASTA_PCA1(Mstream2,Ymat,ΩY,groups,lrparams,δ,Fmeasure,stats_fcn,online,10000)\n",
    "\n",
    "Random.seed!(0)\n",
    "for _=1:num_trials\n",
    "    M0 = HePPCATModel(Matrix(qr!(randn(d,khat)).Q),rand(khat),I(khat),rand(L))\n",
    "#     M0 = HePPCATModel(U,λ,I(k),rand(L))\n",
    "#     Mstream2 = deepcopy(M0)\n",
    "    Mstream2 = deepcopy(Mppca)\n",
    "    Mstream2, Yrec2, stats_log2, err_log2, time_log2 = SHASTA_PCA1(Mstream2,Ymat,ΩY,groups,lrparams,δ,Fmeasure,stats_fcn,online,250)\n",
    "    push!(shasta2_stats_trials,stats_log2)\n",
    "    push!(shasta2_err_trials,err_log2)\n",
    "    push!(shasta2_time_trials,time_log2)\n",
    "    push!(shasta2_models,Mstream2)\n",
    "end"
   ]
  },
  {
   "cell_type": "code",
   "execution_count": null,
   "metadata": {},
   "outputs": [],
   "source": [
    "include(\"plotting.jl\")"
   ]
  },
  {
   "cell_type": "code",
   "execution_count": null,
   "metadata": {},
   "outputs": [],
   "source": [
    "stats = [shasta2_stats_trials,shasta_stats_trials,batch_stats_trials]\n",
    "errs = [shasta2_err_trials,shasta_err_trials,batch_err_trials]\n",
    "times = [shasta2_time_trials,shasta_time_trials,batch_time_trials]\n",
    "labels = [\"SHASTA-PCA-1\",\"SHASTA-PCA-2\",\"Batch method\"]\n",
    "colors = Dict(\"SHASTA-PCA-1\"=>:lightblue,\"SHASTA-PCA-2\"=>:blue,\"Batch method\"=>:black)\n",
    "markers = Dict(\"SHASTA-PCA-1\"=>:circ,\"SHASTA-PCA-2\"=>:diamond,\"Batch method\"=>:rect)\n",
    "# interval = Dict(\"SHASTA-PCA-1\"=>1000,\"SHASTA-PCA-2\"=>1000,\"Batch method\"=>1)\n",
    "interval = Dict(\"SHASTA-PCA-1\"=>2,\"SHASTA-PCA-2\"=>2,\"Batch method\"=>1)"
   ]
  },
  {
   "cell_type": "code",
   "execution_count": null,
   "metadata": {},
   "outputs": [],
   "source": [
    "missing_rate = Int(round((1-missing)*100))\n",
    "# interval = [1000, 1]\n",
    "alph = 0.05\n",
    "fontsize = 10\n",
    "figsize = (400,300)\n",
    "\n",
    "# p1 = plottraces(errs,labels,colors,markers,interval,alpha,figsize,fontsize,\"Subspace Error: $missing_rate % observed\",\"Iteration\",:outerright,:log)\n",
    "# hline!(p1,[Fmeasure(Mheppcat)],linestyle=:dash,width=2,color=:red,label=\"HePPCAT\")\n",
    "# hline!(p1,[Fmeasure(Mppca)],linestyle=:dash,width=2,color=:green,label=\"PPCA\")\n",
    "\n",
    "# figsize = (400,300)\n",
    "# # colors = Dict(\"SHASTA-PCA-2\"=>:blue)\n",
    "# p2 = plottraces(stats,labels,colors,markers,interval,alpha,figsize,fontsize,\"Log-likelihood: $missing_rate % observed\",\"Iteration\",false,:linear)\n",
    "# hline!(p2,[stats_fcn(Mheppcat)],linestyle=:dash,width=2,color=:red,label=\"HePPCAT\")\n",
    "# hline!(p2,[stats_fcn(Mppca)],linestyle=:dash,width=2,color=:green,label=\"PPCA\")\n",
    "\n",
    "# ylims!(p2,(-1e5,1e4))\n",
    "# p = plot(p2,p1,layout = @layout([q1{0.38w} q2]),size=(700,300),bottom_margin=5mm)\n",
    "# # p = plot(p1,p2,layout = @layout([q1{0.5w} q2]),size=(800,300),bottom_margin=5mm)\n",
    "\n",
    "# # file = \"shasta_results/online_algs_iteration-d_$d-n_$n-observedPercent_$missing_rate-v1_\" * @sprintf(\"%.2E\", v[1]) * \"-v2_\"* @sprintf(\"%.2E\", v[2]) * \".png\"\n",
    "# # savefig(p,file)\n",
    "# plot(p)"
   ]
  },
  {
   "cell_type": "code",
   "execution_count": null,
   "metadata": {},
   "outputs": [],
   "source": [
    "missing_rate = Int(round((1-missing)*100))\n",
    "p1 = plottimetraces(stats,times,labels,colors,markers,interval,alph,figsize,fontsize,\"Log-likelihood: $missing_rate% observed\",\"Time (s)\",:outerright)\n",
    "# hline!(p1,[stats_fcn(Mheppcat)],linestyle=:dash,width=2,color=:red,label=\"HePPCAT\")\n",
    "# hline!(p1,[stats_fcn(Mppca)],linestyle=:dash,width=2,color=:green,label=\"PPCA\")\n",
    "xlims!(0,4)\n",
    "# xlims!(0,3)\n",
    "# xlims!(0,1)\n",
    "# ylims!(-1e4,Inf)\n",
    "# ylims!(-5e4,Inf)\n",
    "# ylims!(-1e5,Inf)\n",
    "plot!(size=(450,250))\n",
    "file = \"/Users/kgilman/Desktop/streaming-hppca/Streaming-Heteroscedastic-PPCA/shasta_results/batch_log-likelihood-d_$d-n_$n-observedPercent_$missing_rate-v1_\" * @sprintf(\"%.2E\", v[1]) * \"-v2_\"* @sprintf(\"%.2E\", v[2]) * \".pdf\"\n",
    "# savefig(p1,file)\n",
    "hline!([stats_fcn(Mheppcat)],label=\"HePPCAT\")\n",
    "plot(p1)"
   ]
  },
  {
   "cell_type": "code",
   "execution_count": null,
   "metadata": {},
   "outputs": [],
   "source": [
    "missing_rate = Int(round((1-missing)*100))\n",
    "p1 = plottimetraces(errs,times,labels,colors,markers,interval,alph,figsize,fontsize,\"Subspace Error: $missing_rate% observed\",\"Time (s)\",:outerright,:log)\n",
    "# hline!(p1,[Fmeasure(Mheppcat)],linestyle=:dash,width=2,color=:red,label=\"HePPCAT\")\n",
    "# hline!(p1,[Fmeasure(Mppca)],linestyle=:dash,width=2,color=:green,label=\"PPCA\")\n",
    "# xlims!(0,300)\n",
    "xlims!(0,5)\n",
    "plot!(size=(450,250))\n",
    "file = \"/Users/kgilman/Desktop/streaming-hppca/Streaming-Heteroscedastic-PPCA/shasta_results/batch_subspace-distance-d_$d-n_$n-observedPercent_$missing_rate-v1_\" * @sprintf(\"%.2E\", v[1]) * \"-v2_\"* @sprintf(\"%.2E\", v[2]) * \".pdf\"\n",
    "# savefig(p1,file)\n",
    "plot(p1)"
   ]
  },
  {
   "cell_type": "code",
   "execution_count": null,
   "metadata": {},
   "outputs": [],
   "source": [
    "Mstream.λ"
   ]
  },
  {
   "cell_type": "code",
   "execution_count": null,
   "metadata": {},
   "outputs": [],
   "source": [
    "Mbatch.λ"
   ]
  },
  {
   "cell_type": "code",
   "execution_count": null,
   "metadata": {},
   "outputs": [],
   "source": [
    "Mstream.v"
   ]
  },
  {
   "cell_type": "code",
   "execution_count": null,
   "metadata": {},
   "outputs": [],
   "source": [
    "Mstream2.v"
   ]
  },
  {
   "cell_type": "code",
   "execution_count": null,
   "metadata": {},
   "outputs": [],
   "source": [
    "Mbatch.v"
   ]
  },
  {
   "cell_type": "code",
   "execution_count": null,
   "metadata": {},
   "outputs": [],
   "source": [
    "abs.(Mstream.v - Mtrue.v) ./ Mtrue.v"
   ]
  },
  {
   "cell_type": "code",
   "execution_count": null,
   "metadata": {},
   "outputs": [],
   "source": [
    "abs.(Mstream2.v - Mtrue.v) ./ Mtrue.v"
   ]
  },
  {
   "cell_type": "code",
   "execution_count": null,
   "metadata": {},
   "outputs": [],
   "source": [
    "abs.(Mbatch.v - Mtrue.v) ./ Mtrue.v"
   ]
  },
  {
   "cell_type": "markdown",
   "metadata": {},
   "source": [
    "### Visualization"
   ]
  },
  {
   "cell_type": "code",
   "execution_count": null,
   "metadata": {},
   "outputs": [],
   "source": [
    "function Ωloglikelihood(M,Y,Ω)\n",
    "    L = length(Y)\n",
    "    n = [size(Y[l])[2] for l=1:L]\n",
    "    F = M.F\n",
    "    value = 0\n",
    "    for l=1:L\n",
    "        for i=1:n[l]\n",
    "            idx = findall(>(0), Ω[l][:,i])\n",
    "            yΩ = Y[l][idx,i]\n",
    "            FΩ = F[idx,:]\n",
    "            Mtl = inv(FΩ*FΩ' + M.v[l]*I)\n",
    "            value += log(det(Mtl)) - yΩ'*Mtl*yΩ\n",
    "        end\n",
    "    end\n",
    "    return value\n",
    "end"
   ]
  },
  {
   "cell_type": "code",
   "execution_count": null,
   "metadata": {},
   "outputs": [],
   "source": [
    "d, n, v, λ = 50, [20,80], [1e-4,1e-1], [4,2]\n",
    "k, L = length(λ), length(v)\n",
    "khat = k;\n",
    "\n",
    "num_trials = 10\n",
    "\n",
    "# Generate data\n",
    "Random.seed!(0)\n",
    "U = qr(rand(d,k)).Q[:,1:k]\n",
    "F = U*sqrt(Diagonal(λ))\n",
    "missing = 0.5\n",
    "# missing = 0.7\n",
    "Ω = [(rand(d,n[l]) .> missing) for l in 1:L]\n",
    "Ytrue = [F*randn(k,n[l]) for l=1:L]\n",
    "Ynoisy = [Ytrue[l] + sqrt(v[l])*randn(d,n[l]) for l in 1:L]\n",
    "Y = [Ω[l] .* Ynoisy[l] for l in 1:L]"
   ]
  },
  {
   "cell_type": "code",
   "execution_count": null,
   "metadata": {},
   "outputs": [],
   "source": [
    "Yfull = hcat(Ynoisy...);\n",
    "Yfull[Yfull .== 0] .= -Inf\n",
    "fontsize = 18;\n",
    "p1 = plot(figsize=(1000,3000),xtickfont=font(fontsize), \n",
    "    ytickfont=font(fontsize), \n",
    "    guidefont=font(fontsize), \n",
    "    legendfont=font(fontsize),\n",
    "    titlefont=font(fontsize),right_margin=5mm)\n",
    "heatmap!(p1,Yfull,aspect_ratio=:equal,c=:ice,colorbar=false,clims=(-2,2))\n",
    "title!(\"Corrupted with Heterogeneous Noise\")\n",
    "savefig(p1,\"visuals/full_hetero_mtx.pdf\")\n",
    "plot!()"
   ]
  },
  {
   "cell_type": "code",
   "execution_count": null,
   "metadata": {},
   "outputs": [],
   "source": [
    "Ymiss = hcat(Y...)\n",
    "Ymiss[Ymiss .== 0] .= -Inf\n",
    "p2 = plot(figsize=(1000,3000),xtickfont=font(fontsize), \n",
    "    ytickfont=font(fontsize), \n",
    "    guidefont=font(fontsize), \n",
    "    legendfont=font(fontsize),\n",
    "    titlefont=font(fontsize),right_margin=5mm)\n",
    "heatmap!(p2,Ymiss,aspect_ratio=:equal,c=:ice,colorbar=false,clims=(-2,2))\n",
    "title!(\"Heterogeneous noise with 50% missing\")\n",
    "savefig(p2,\"visuals/missing_hetero_mtx.pdf\")\n",
    "plot!()"
   ]
  },
  {
   "cell_type": "markdown",
   "metadata": {},
   "source": [
    "#### Run batch algorithm for missing data"
   ]
  },
  {
   "cell_type": "code",
   "execution_count": null,
   "metadata": {},
   "outputs": [],
   "source": [
    "include(\"batchHPPCACompletion.jl\")"
   ]
  },
  {
   "cell_type": "code",
   "execution_count": null,
   "metadata": {},
   "outputs": [],
   "source": [
    "function homppca(Y,k)\n",
    "    Yf = reduce(hcat,Y)\n",
    "    n, L = size(Yf,2), length(Y)\n",
    "    Uh, s, _ = svd(Yf)\n",
    "    λh = abs2.(s)./n\n",
    "    λb = mean(λh[k+1:end])\n",
    "    HePPCATModel(Uh[:,1:k],λh[1:k] .- λb,I(k),fill(λb,L))\n",
    "end"
   ]
  },
  {
   "cell_type": "code",
   "execution_count": null,
   "metadata": {},
   "outputs": [],
   "source": [
    "# Mbatch = HePPCATModel(Matrix(qr!(randn(d,khat)).Q),rand(khat),I(khat),rand(L))\n",
    "Mbatch = homppca(Y,khat)\n",
    "\n",
    "function Fmeasure(M)\n",
    "#     Fhat = M.U * Diagonal(M.λ).^(0.5) * M.Vt\n",
    "#     return norm(Fhat*Fhat' - F*F') / norm(F*F')\n",
    "    Uf = svd(F).U[:,1:k]\n",
    "    Uhat = M.U\n",
    "    \n",
    "    return norm(Uhat*Uhat' - Uf*Uf') / norm(Uf*Uf')\n",
    "end\n",
    "\n",
    "Mtrue = HePPCATModel(U,λ,I(k),v)\n",
    "\n",
    "Ltrue = Ωloglikelihood(Mtrue,Ynoisy,Ω)\n",
    "stats_fcn(M) = Ωloglikelihood(M,Ynoisy,Ω) - Ltrue\n",
    "\n",
    "\n",
    "# Ltrue = loglikelihood(Mtrue,Ynoisy)\n",
    "# stats_fcn(M) = loglikelihood(M,Ynoisy) - Ltrue\n",
    "\n",
    "niters = 100\n",
    "\n",
    "Mbatch, batch_stats_log, batch_err_log, batch_time_log = batchHPPCACompletion(Mbatch,Y,Ω,niters,Fmeasure,stats_fcn)"
   ]
  },
  {
   "cell_type": "code",
   "execution_count": null,
   "metadata": {},
   "outputs": [],
   "source": [
    "Mheppcat = heppcat(Y,khat,100)"
   ]
  },
  {
   "cell_type": "code",
   "execution_count": null,
   "metadata": {},
   "outputs": [],
   "source": [
    "plot(batch_stats_log,figsize=(300,300),label=\"Modeled for Missing Data\")\n",
    "hline!([stats_fcn(Mheppcat)],label=\"HePPCAT\")\n",
    "plot!(legend=:bottomright)\n",
    "title!(\"Log-likelihood\")\n",
    "# ylims!(-1000,Inf)"
   ]
  },
  {
   "cell_type": "code",
   "execution_count": null,
   "metadata": {},
   "outputs": [],
   "source": [
    "Mbatch.v"
   ]
  },
  {
   "cell_type": "code",
   "execution_count": null,
   "metadata": {},
   "outputs": [],
   "source": [
    "Mheppcat.v"
   ]
  },
  {
   "cell_type": "code",
   "execution_count": null,
   "metadata": {},
   "outputs": [],
   "source": [
    "norm(Mheppcat.F*Mheppcat.F' - Mbatch.F*Mbatch.F') / norm( Mbatch.F*Mbatch.F')"
   ]
  },
  {
   "cell_type": "code",
   "execution_count": null,
   "metadata": {},
   "outputs": [],
   "source": [
    "Fmeasure(Mheppcat)"
   ]
  },
  {
   "cell_type": "code",
   "execution_count": null,
   "metadata": {},
   "outputs": [],
   "source": [
    "Fmeasure(Mbatch)"
   ]
  },
  {
   "cell_type": "code",
   "execution_count": null,
   "metadata": {},
   "outputs": [],
   "source": [
    "plot(batch_err_log,yaxis=:log)\n",
    "hline!([Fmeasure(Mheppcat)])"
   ]
  },
  {
   "cell_type": "code",
   "execution_count": null,
   "metadata": {},
   "outputs": [],
   "source": [
    "# Fh = Mbatch.F\n",
    "Fh = Mheppcat.U\n",
    "Yimpute1 = [zeros(d,n[l]) for l=1:L]\n",
    "Yimpute2 = [zeros(d,n[l]) for l=1:L]\n",
    "for l=1:L\n",
    "    for i=1:n[l]\n",
    "        idx = findall(>(0), Ω[l][:,i])\n",
    "        Yimpute1[l][:,i] = Fh*inv(Fh[idx,:]'*Fh[idx,:] + Mbatch.v[l]*I)*Fh[idx,:]'*Y[l][idx,i]\n",
    "        Yimpute2[l][:,i] = Fh*inv(Fh[idx,:]'*Fh[idx,:])*Fh[idx,:]'*Y[l][idx,i]\n",
    "    end\n",
    "end\n",
    "\n",
    "Yimpute1 = hcat(Yimpute1...)\n",
    "Yimpute2 = hcat(Yimpute2...)\n",
    "\n",
    "Ytruefull = hcat(Ytrue...);"
   ]
  },
  {
   "cell_type": "markdown",
   "metadata": {},
   "source": [
    "#### full imputation NRMSE"
   ]
  },
  {
   "cell_type": "code",
   "execution_count": null,
   "metadata": {},
   "outputs": [],
   "source": [
    "norm(Yimpute1 - Ytruefull) ./ norm(Ytruefull)"
   ]
  },
  {
   "cell_type": "code",
   "execution_count": null,
   "metadata": {},
   "outputs": [],
   "source": [
    "norm(Yimpute2 - Ytruefull) ./ norm(Ytruefull)"
   ]
  },
  {
   "cell_type": "markdown",
   "metadata": {},
   "source": [
    "#### group 1"
   ]
  },
  {
   "cell_type": "code",
   "execution_count": null,
   "metadata": {},
   "outputs": [],
   "source": [
    "norm(Yimpute1[:,n[1]] - Ytruefull[:,n[1]]) ./ norm(Ytruefull[:,n[1]])"
   ]
  },
  {
   "cell_type": "code",
   "execution_count": null,
   "metadata": {},
   "outputs": [],
   "source": [
    "norm(Yimpute2[:,n[1]] - Ytruefull[:,n[1]]) ./ norm(Ytruefull[:,n[1]])"
   ]
  },
  {
   "cell_type": "markdown",
   "metadata": {},
   "source": [
    "#### group 2"
   ]
  },
  {
   "cell_type": "code",
   "execution_count": null,
   "metadata": {},
   "outputs": [],
   "source": [
    "norm(Yimpute1[:,n[1]+1:n[2]] - Ytruefull[:,n[1]+1:n[2]]) ./ norm(Ytruefull[:,n[1]+1:n[2]])"
   ]
  },
  {
   "cell_type": "code",
   "execution_count": null,
   "metadata": {},
   "outputs": [],
   "source": [
    "norm(Yimpute2[:,n[1]+1:n[2]] - Ytruefull[:,n[1]+1:n[2]]) ./ norm(Ytruefull[:,n[1]+1:n[2]])"
   ]
  },
  {
   "cell_type": "code",
   "execution_count": null,
   "metadata": {},
   "outputs": [],
   "source": [
    "p3 = plot(figsize=(1000,3000),xtickfont=font(fontsize), \n",
    "    ytickfont=font(fontsize), \n",
    "    guidefont=font(fontsize), \n",
    "    legendfont=font(fontsize),\n",
    "    titlefont=font(fontsize),right_margin=5mm)\n",
    "heatmap!(p3,Yimpute1,aspect_ratio=:equal,c =:ice,colorbar=false,clims=(-2,2))\n",
    "title!(\"Completed and denoised\")\n",
    "savefig(p3,\"visuals/imputed_hetero_mtx.pdf\")\n",
    "plot!()"
   ]
  },
  {
   "cell_type": "code",
   "execution_count": null,
   "metadata": {},
   "outputs": [],
   "source": [
    "p4 = plot(figsize=(1000,3000),xtickfont=font(fontsize), \n",
    "    ytickfont=font(fontsize), \n",
    "    guidefont=font(fontsize), \n",
    "    legendfont=font(fontsize),\n",
    "    titlefont=font(fontsize),right_margin=5mm)\n",
    "heatmap!(p4,Ytruefull,aspect_ratio=:equal,c =:ice,colorbar=false,clims=(-2,2))\n",
    "title!(\"True data\")\n",
    "savefig(p4,\"visuals/true_mtx.pdf\")\n",
    "plot!()"
   ]
  },
  {
   "cell_type": "code",
   "execution_count": null,
   "metadata": {},
   "outputs": [],
   "source": [
    "p5 = plot(figsize=(1000,3000),xtickfont=font(fontsize), \n",
    "    ytickfont=font(fontsize), \n",
    "    guidefont=font(fontsize), \n",
    "    legendfont=font(fontsize),\n",
    "    titlefont=font(fontsize),right_margin=10mm)\n",
    "heatmap!(p5,Yimpute1 - Ytruefull,aspect_ratio=:equal,c =:ice,colorbar=true)\n",
    "title!(\"Differences\")\n",
    "# savefig(p4,\"visuals/true_mtx.pdf\")\n",
    "plot!()"
   ]
  },
  {
   "cell_type": "markdown",
   "metadata": {},
   "source": [
    "### Unit testing"
   ]
  },
  {
   "cell_type": "code",
   "execution_count": null,
   "metadata": {},
   "outputs": [],
   "source": [
    "M0 = HePPCATModel(randn(d,k),rand(L));\n",
    "M1 = deepcopy(M0)\n",
    "M2 = deepcopy(M0)"
   ]
  },
  {
   "cell_type": "code",
   "execution_count": null,
   "metadata": {},
   "outputs": [],
   "source": [
    "function updateF1!(M::HePPCATModel,Y)\n",
    "    n, L = size.(Y,2), length(Y)\n",
    "    Λ = Diagonal(M.λ)\n",
    "    Γ = [inv(Λ + M.v[l]*I) for l in 1:L]\n",
    "    Z = [Γ[l]*sqrt(Λ)*M.U'*Y[l] for l in 1:L]\n",
    "    num = sum(Y[l]*Z[l]'/M.v[l] for l in 1:L)\n",
    "    den = sum(Z[l]*Z[l]'/M.v[l] + n[l]*Γ[l] for l in 1:L)\n",
    "\n",
    "    F = svd((num / den) * M.Vt)\n",
    "    M.U .= F.U\n",
    "    M.λ .= F.S.^2\n",
    "    M.Vt .= F.Vt\n",
    "    return M\n",
    "end"
   ]
  },
  {
   "cell_type": "code",
   "execution_count": null,
   "metadata": {},
   "outputs": [],
   "source": [
    "function updateF2!(M,Y,Ω)\n",
    "\tF  = M.F\n",
    "\tk = size(F,2)\n",
    "\tv = M.v\n",
    "\tL = length(Y)\n",
    "\tn = [size(Yl,2) for Yl in Y]\n",
    "    \n",
    "    R = [zeros(k,k) for _=1:d]\n",
    "\ts = [zeros(k) for _=1:d]\n",
    "\n",
    "\tfor l=1:L \n",
    "\t\tfor i=1:n[l]\n",
    "\t\t\tΩli = findall(>(0), Ω[l][:,i])\n",
    "\t\t\tFΩ = F[Ωli,:]\n",
    "\t\t\tyΩ = Y[l][Ωli,i]\n",
    "\t\t\tMtli = inv(FΩ'*FΩ + v[l]*I)\n",
    "            ztli = Mtli*FΩ'*yΩ\n",
    "            R[Ωli] += [1/v[l] * (ztli*ztli' + v[l]*Mtli) for j in Ωli]\n",
    "            s[Ωli] += [1/v[l] * Y[l][j,i]*ztli for j in Ωli]\n",
    "\t\tend\n",
    "\tend\n",
    "\n",
    "\t### Update F\n",
    "\n",
    "\tFhat = hcat(computefj.(Ref(R),Ref(s),1:d)...)'\n",
    "\tFhat = svd(Fhat)\n",
    "    M.U .= Fhat.U\n",
    "    M.λ .= Fhat.S.^2\n",
    "    M.Vt .= Fhat.Vt\n",
    "\n",
    "    return M\n",
    "\n",
    "end\n",
    "\n",
    "function computefj(R,s,j)\n",
    "    return inv(R[j])*s[j]\n",
    "end\n"
   ]
  },
  {
   "cell_type": "code",
   "execution_count": null,
   "metadata": {},
   "outputs": [],
   "source": [
    "M1 = updateF1!(M1,Y)\n",
    "M2 = updateF2!(M2,Y,Ω)"
   ]
  },
  {
   "cell_type": "code",
   "execution_count": null,
   "metadata": {},
   "outputs": [],
   "source": [
    "norm(M2.F - M1.F)"
   ]
  },
  {
   "cell_type": "markdown",
   "metadata": {},
   "source": [
    "#### Unit test F update"
   ]
  },
  {
   "cell_type": "code",
   "execution_count": null,
   "metadata": {},
   "outputs": [],
   "source": [
    "# Random.seed!(1)\n",
    "d, n, v, λ = 100, [200,800], [1,4], [4,2,1]\n",
    "k, L = length(λ), length(v)\n",
    "khat = k;\n",
    "\n",
    "# Generate data\n",
    "Random.seed!(0)\n",
    "U = qr(rand(d,k)).Q[:,1:k]\n",
    "F = U*sqrt(Diagonal(λ))\n",
    "missing = 0.0\n",
    "Ω = [(rand(d,n[l]) .> missing) for l in 1:L]\n",
    "Ytrue = [F*randn(k,n[l]) for l=1:L]\n",
    "Ynoisy = [Ytrue[l] + sqrt(v[l])*randn(d,n[l]) for l in 1:L]\n",
    "Y = [Ω[l] .* Ynoisy[l] for l in 1:L]\n",
    "\n",
    "Mtrue = HePPCATModel(F,v)\n",
    "Ltrue = loglikelihood(Mtrue,Y)\n",
    "stats_fcn(M) = loglikelihood(M,Y) - Ltrue"
   ]
  },
  {
   "cell_type": "code",
   "execution_count": null,
   "metadata": {},
   "outputs": [],
   "source": [
    "M0 = HePPCATModel(randn(d,k),rand(L));\n",
    "M1 = deepcopy(M0)\n",
    "M2 = deepcopy(M0)\n",
    "\n",
    "objFxn1 = []\n",
    "objFxn2 = []\n",
    "for t = 1:100\n",
    "    updatev1!(M1,Y)\n",
    "    updateF1!(M1,Y)\n",
    "    \n",
    "    updatev2!(M2,Y,Ω)\n",
    "    updateF2!(M2,Y,Ω)\n",
    "    \n",
    "    push!(objFxn1,stats_fcn(M1))\n",
    "    push!(objFxn2,stats_fcn(M2))\n",
    "end"
   ]
  },
  {
   "cell_type": "code",
   "execution_count": null,
   "metadata": {},
   "outputs": [],
   "source": [
    "plot(legend=:bottomright)\n",
    "plot!(objFxn1,label=\"HePPCAT\")\n",
    "plot!(objFxn2,label=\"test\")\n",
    "# ylims!(-1000,Inf)"
   ]
  },
  {
   "cell_type": "markdown",
   "metadata": {},
   "source": [
    "#### Unit test v updates"
   ]
  },
  {
   "cell_type": "code",
   "execution_count": null,
   "metadata": {},
   "outputs": [],
   "source": [
    "function updatev1!(M::HePPCATModel,Y)\n",
    "    for (l,Yl) in enumerate(Y)\n",
    "        M.v[l] = updatevl(M.v[l],M.U,M.λ,Yl)\n",
    "    end\n",
    "    return M\n",
    "end\n",
    "\n",
    "\n",
    "function updatevl(vl,U,λ,Yl)\n",
    "    d, k = size(U)\n",
    "    nl = size(Yl,2)\n",
    "\n",
    "    UYl = [sum(abs2,Yl'U[:,j]) for j in 1:k]\n",
    "    UYl0 = nonnegative(sum(abs2,Yl)-sum(UYl))\n",
    "    β = [j == 0 ? UYl0/nl : UYl[j]/nl for j in 0:k]\n",
    "    γ = [j == 0 ? zero(eltype(λ)) : λ[j] for j in 0:k]\n",
    "    \n",
    "    ρ = sum((oneunit(eltype(λ)).-γ./(γ.+vl)).^2 .* β) + vl*sum(λ./(λ.+vl))\n",
    "    return ρ/d\n",
    "end\n",
    "\n",
    "nonnegative(x) = max(zero(x),x)"
   ]
  },
  {
   "cell_type": "code",
   "execution_count": null,
   "metadata": {},
   "outputs": [],
   "source": [
    "function updatev2!(M,Y,Ω)\n",
    "\tF = M.F\n",
    "\tv = M.v\n",
    "\n",
    "\tL = length(Y)\n",
    "\tn = [size(Yl,2) for Yl in Y]\n",
    "\n",
    "\tfor l=1:L \n",
    "\t\tρtl = 0\n",
    "        θ = 0\n",
    "        α = 0\n",
    "\t\tfor i=1:n[l]\n",
    "\t\t\t# Ωli = Ωidx[l][i]\n",
    "\t\t\tΩli = findall(>(0), Ω[l][:,i])\n",
    "\t\t\tFΩ = F[Ωli,:]\n",
    "\t\t\t# yΩ = Y[l][:,i][Ωli]\n",
    "\t\t\tyΩ = Y[l][Ωli,i]\n",
    "\t\t\tMtli = inv(FΩ'*FΩ + v[l]*I)\n",
    "\t\t\tztli = Mtli*FΩ'*yΩ\n",
    "\t\t\tρtl += 2*yΩ'*(FΩ*ztli) - (norm(FΩ*ztli)^2 + v[l]*tr((FΩ'*FΩ)*Mtli))\n",
    "            θ += length(Ωli)\n",
    "            α += norm(yΩ)^2\n",
    "\t\tend\n",
    "\t\tM.v[l] = (α - ρtl) / θ\n",
    "\tend\n",
    "\n",
    "\treturn M\n",
    "\n",
    "end"
   ]
  },
  {
   "cell_type": "code",
   "execution_count": null,
   "metadata": {},
   "outputs": [],
   "source": [
    "M0 = HePPCATModel(randn(d,k),rand(L));\n",
    "M1 = deepcopy(M0)\n",
    "M2 = deepcopy(M0)\n",
    "\n",
    "for t=1:100\n",
    "    updatev1!(M1,Y)\n",
    "    updatev2!(M2,Y,Ω)\n",
    "end"
   ]
  },
  {
   "cell_type": "code",
   "execution_count": null,
   "metadata": {},
   "outputs": [],
   "source": [
    "norm(M1.v - M2.v)"
   ]
  },
  {
   "cell_type": "markdown",
   "metadata": {},
   "source": [
    "## Outlier Detection"
   ]
  },
  {
   "cell_type": "code",
   "execution_count": null,
   "metadata": {},
   "outputs": [],
   "source": [
    "d, n, v, λ = 50, [20,80], [1e-4,1e-1], [4,2]\n",
    "k, L = length(λ), length(v)\n",
    "khat = k;\n",
    "\n",
    "num_trials = 10\n",
    "\n",
    "# Generate data\n",
    "Random.seed!(0)\n",
    "U = qr(rand(d,k)).Q[:,1:k]\n",
    "F = U*sqrt(Diagonal(λ))\n",
    "missing = 0.0\n",
    "# missing = 0.7\n",
    "Ω = [(rand(d,n[l]) .> missing) for l in 1:L]\n",
    "Ytrue = [F*randn(k,n[l]) for l=1:L]\n",
    "Ynoisy = [Ytrue[l] + sqrt(v[l])*randn(d,n[l]) for l in 1:L]\n",
    "\n",
    "S = randn(d,3)\n",
    "SΩ = (rand(d,3) .> 0.0)\n",
    "S = S.*SΩ\n",
    "Ynoisy[1][:,10] += S[:,1]\n",
    "Ynoisy[2][:,20] += S[:,2]\n",
    "Ynoisy[2][:,60] += S[:,3]\n",
    "Y = [Ω[l] .* Ynoisy[l] for l in 1:L]\n",
    "Ycorrupted = hcat(Y...)\n",
    "Ysingle = [Ycorrupted[:,i] for i=1:size(Ycorrupted)[2]];"
   ]
  },
  {
   "cell_type": "code",
   "execution_count": null,
   "metadata": {},
   "outputs": [],
   "source": [
    "p4 = plot(figsize=(1000,3000),xtickfont=font(fontsize), \n",
    "    ytickfont=font(fontsize), \n",
    "    guidefont=font(fontsize), \n",
    "    legendfont=font(fontsize),\n",
    "    titlefont=font(fontsize),bottom_margin=5mm,right_margin=5mm,\n",
    "    xlabel=\"Sample\")\n",
    "heatmap!(p4,Ycorrupted,aspect_ratio=:equal,c =:ice,colorbar=false,clims=(-2,2))\n",
    "title!(\"Corrupted data\")\n",
    "savefig(p4,\"visuals/corrupted_data.pdf\")\n",
    "plot!()"
   ]
  },
  {
   "cell_type": "code",
   "execution_count": null,
   "metadata": {},
   "outputs": [],
   "source": [
    "Mcorrupt = heppcat(Ysingle,k,50)"
   ]
  },
  {
   "cell_type": "code",
   "execution_count": null,
   "metadata": {},
   "outputs": [],
   "source": [
    "p5 = scatter(Mcorrupt.v,label=\"\",xtickfont=font(fontsize), yaxis=:log,\n",
    "    ytickfont=font(fontsize), \n",
    "    guidefont=font(fontsize), \n",
    "    legendfont=font(fontsize),\n",
    "    titlefont=font(fontsize),bottom_margin=5mm,\n",
    "    title=\"Estimated HePPCAT Variances (L=n)\",\n",
    "    xticks=0:20:120,\n",
    "    ylabel=\"Variance\",xlabel=\"Data sample\",size=(600,400))\n",
    "ylims!(1e-6,1e1)\n",
    "savefig(p5,\"visuals/corrupted_data_variance_estimates.pdf\")\n",
    "plot!()"
   ]
  },
  {
   "cell_type": "code",
   "execution_count": null,
   "metadata": {},
   "outputs": [],
   "source": []
  }
 ],
 "metadata": {
  "@webio": {
   "lastCommId": null,
   "lastKernelId": null
  },
  "kernelspec": {
   "display_name": "Julia 1.6.1",
   "language": "julia",
   "name": "julia-1.6"
  },
  "language_info": {
   "file_extension": ".jl",
   "mimetype": "application/julia",
   "name": "julia",
   "version": "1.6.1"
  }
 },
 "nbformat": 4,
 "nbformat_minor": 2
}
