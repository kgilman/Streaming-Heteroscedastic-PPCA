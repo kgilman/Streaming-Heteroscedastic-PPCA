{
 "cells": [
  {
   "cell_type": "code",
   "execution_count": null,
   "metadata": {},
   "outputs": [],
   "source": [
    "using HePPCAT, LinearAlgebra, Plots, Random, Statistics, StatsPlots, Printf\n",
    "using Plots.PlotMeasures\n",
    "include(\"plotting.jl\")\n",
    "include(\"petrels.jl\")\n",
    "include(\"grouse.jl\")\n",
    "include(\"shasta1.jl\")\n",
    "include(\"shasta2.jl\")\n",
    "include(\"batchHPPCACompletion.jl\")"
   ]
  },
  {
   "cell_type": "markdown",
   "metadata": {},
   "source": [
    "### Batch vs. Streaming on missing data: Static subspace"
   ]
  },
  {
   "cell_type": "code",
   "execution_count": null,
   "metadata": {},
   "outputs": [],
   "source": [
    "# d, n, v, λ = 50, [200,800], [1,4], [4,2,1]\n",
    "# d, n, v, λ = 50, [200,800], [0.1,1], [4,2,1]\n",
    "# d, n, v, λ = 50, [200,800], [1e-4,1e-2], [4,2,1]\n",
    "\n",
    "# d, n, v, λ = 100, [500,2000], [1e-4,1e-2], [4,2,1]\n",
    "# d, n, v, λ = 100, [2500,10000], [1e-4,1e-2], [4,2,1]\n",
    "# d, n, v, λ = 100, [3000,12000], [1e-4,1e-2], [4,2,1]\n",
    "d, n, v, λ = 100, [3000,12000], [1e-4,1e-2], [4,2,1]\n",
    "# d, n, v, λ = 50, [500,2000], [1e-2,1e-2], [4,2,1]\n",
    "\n",
    "# d, n, v, λ = 50, [100,1000], [1e-2,1], [4,2,1]\n",
    "k, L = length(λ), length(v)\n",
    "khat = k;\n",
    "\n",
    "num_trials = 1\n",
    "\n",
    "# Generate data\n",
    "Random.seed!(0)\n",
    "U = qr(rand(d,k)).Q[:,1:k]\n",
    "F = U*sqrt(Diagonal(λ))\n",
    "missing = 0.5\n",
    "Ω = [(rand(d,n[l]) .> missing) for l in 1:L]\n",
    "Ytrue = [F*randn(k,n[l]) + sqrt(v[l])*randn(d,n[l]) for l in 1:L]\n",
    "Y = [Ω[l] .* Ytrue[l] for l in 1:L]\n",
    "\n",
    "### Streaming-setup\n",
    "Ymat_true = hcat([Ytrue[l] for l=1:L]...)\n",
    "Ymat = hcat([Y[l] for l=1:L]...)\n",
    "vmat = vcat([v[l]*ones(n[l]) for l=1:L]...)\n",
    "groups = Int64.(vcat([l*ones(n[l]) for l=1:L]...));\n",
    "ΩY = abs.(Ymat) .> 0\n",
    "\n",
    "dataIdx = randperm(sum(n))\n",
    "Ymat = Ymat[:,dataIdx]\n",
    "Ymat_true = Ymat_true[:,dataIdx]\n",
    "ΩY = ΩY[:,dataIdx]\n",
    "groups = groups[dataIdx]\n",
    "\n",
    "### True model\n",
    "Mtrue = HePPCATModel(U,λ,I(k),v)\n",
    "\n",
    "Ltrue = loglikelihood(Mtrue,Ytrue)\n",
    "stats_fcn(M) = loglikelihood(M,Ytrue) - Ltrue"
   ]
  },
  {
   "cell_type": "code",
   "execution_count": null,
   "metadata": {},
   "outputs": [],
   "source": [
    "function Fmeasure(M)\n",
    "#     Fhat = M.U * Diagonal(M.λ).^(0.5) * M.Vt\n",
    "#     return norm(Fhat*Fhat' - F*F') / norm(F*F')\n",
    "    Uf = svd(F).U[:,1:k]\n",
    "    Uhat = M.U\n",
    "    \n",
    "    return norm(Uhat*Uhat' - Uf*Uf') / norm(Uf*Uf')\n",
    "end"
   ]
  },
  {
   "cell_type": "code",
   "execution_count": null,
   "metadata": {},
   "outputs": [],
   "source": [
    "### HePPCAT (Batch)\n",
    "heppcat_time_log = []\n",
    "for _=1:1\n",
    "    tHeppcat = @elapsed begin\n",
    "        Mheppcat = heppcat(Y,k,100) \n",
    "    end\n",
    "    push!(heppcat_time_log,tHeppcat)\n",
    "end\n",
    "tHeppcat = median(heppcat_time_log)\n",
    "Mheppcat = heppcat(Y,k,100) \n",
    "\n",
    "### Homoscedastic PPCA\n",
    "cor = sum(Y[l]*Y[l]' for l in 1:L)/sum(n)\n",
    "λh, Uh = eigen(Hermitian(cor),sortby=-)\n",
    "λb = mean(λh[khat+1:end])\n",
    "Mppca = HePPCATModel(Uh[:,1:khat],λh[1:khat] .- λb,I(khat),fill(λb,L))"
   ]
  },
  {
   "cell_type": "code",
   "execution_count": null,
   "metadata": {},
   "outputs": [],
   "source": [
    "# stats_fcn(M) = M.v"
   ]
  },
  {
   "cell_type": "markdown",
   "metadata": {},
   "source": [
    "##### Batch algorithm"
   ]
  },
  {
   "cell_type": "code",
   "execution_count": null,
   "metadata": {},
   "outputs": [],
   "source": [
    "include(\"batchHPPCACompletion.jl\")"
   ]
  },
  {
   "cell_type": "code",
   "execution_count": null,
   "metadata": {},
   "outputs": [],
   "source": [
    "batch_stats_trials = []\n",
    "batch_err_trials = []\n",
    "batch_time_trials = []\n",
    "batch_models = []\n",
    "niters = 50\n",
    "\n",
    "Mbatch = HePPCATModel(Matrix(qr!(randn(d,khat)).Q),rand(khat),I(khat),rand(L))\n",
    "Mbatch, batch_stats_log, batch_err_log, batch_time_log = batchHPPCACompletion(Mbatch,Y,Ω,1,Fmeasure,stats_fcn)\n",
    "\n",
    "Random.seed!(0)\n",
    "for _=1:num_trials\n",
    "    Mbatch = HePPCATModel(Matrix(qr!(randn(d,khat)).Q),rand(khat),I(khat),rand(L))\n",
    "    Mbatch, batch_stats_log, batch_err_log, batch_time_log = batchHPPCACompletion(Mbatch,Y,Ω,niters,Fmeasure,stats_fcn)\n",
    "    push!(batch_stats_trials,batch_stats_log)\n",
    "    push!(batch_err_trials,batch_err_log)\n",
    "    push!(batch_time_trials,batch_time_log)\n",
    "    push!(batch_models,Mbatch)\n",
    "end"
   ]
  },
  {
   "cell_type": "code",
   "execution_count": null,
   "metadata": {},
   "outputs": [],
   "source": [
    "plot(0:length(batch_stats_trials...)-1,batch_stats_trials)"
   ]
  },
  {
   "cell_type": "markdown",
   "metadata": {},
   "source": [
    "##### SHASTA-PCA-2"
   ]
  },
  {
   "cell_type": "code",
   "execution_count": null,
   "metadata": {},
   "outputs": [],
   "source": [
    "mutable struct LearningRateParams\n",
    "    w::Float64\n",
    "    cf::Float64\n",
    "    cv::Float64\n",
    "end"
   ]
  },
  {
   "cell_type": "code",
   "execution_count": null,
   "metadata": {},
   "outputs": [],
   "source": [
    "shasta_stats_trials = []\n",
    "shasta_err_trials = []\n",
    "shasta_time_trials = []\n",
    "shasta_models = []\n",
    "\n",
    "# w = 0.001\n",
    "w = 1\n",
    "cf = 1\n",
    "# cv = 0.5\n",
    "cv = 1\n",
    "δ = 0.1\n",
    "\n",
    "\n",
    "lrparams = LearningRateParams(w,cf,cv)\n",
    "\n",
    "\n",
    "Yrec = deepcopy(Ymat)\n",
    "\n",
    "### Compile the function on a dummy run\n",
    "M0 = HePPCATModel(Matrix(qr!(randn(d,khat)).Q),rand(khat),I(khat),rand(L))\n",
    "Mstream = deepcopy(M0)\n",
    "Mstream, Yrec, stats_log, err_log, time_log = SHASTA_PCA2(Mstream,Ymat,ΩY,groups,lrparams,δ,Fmeasure,stats_fcn)\n",
    "\n",
    "Random.seed!(0)\n",
    "for _=1:num_trials\n",
    "    M0 = HePPCATModel(Matrix(qr!(randn(d,khat)).Q),rand(khat),I(khat),rand(L))\n",
    "    Mstream = deepcopy(M0)\n",
    "    Mstream, Yrec, stats_log, err_log, time_log = SHASTA_PCA2(Mstream,Ymat,ΩY,groups,lrparams,δ,Fmeasure,stats_fcn)\n",
    "    push!(shasta_stats_trials,stats_log)\n",
    "    push!(shasta_err_trials,err_log)\n",
    "    push!(shasta_time_trials,time_log)\n",
    "    push!(shasta_models,Mstream)\n",
    "end"
   ]
  },
  {
   "cell_type": "markdown",
   "metadata": {},
   "source": [
    "##### SHASTA-PCA-1"
   ]
  },
  {
   "cell_type": "code",
   "execution_count": null,
   "metadata": {},
   "outputs": [],
   "source": [
    "shasta2_stats_trials = []\n",
    "shasta2_err_trials = []\n",
    "shasta2_time_trials = []\n",
    "shasta2_models = []\n",
    "\n",
    "# w = 0.001\n",
    "w = 1\n",
    "cf = 1\n",
    "cv = 1\n",
    "Yrec = deepcopy(Ymat)\n",
    "\n",
    "δ = 0.1\n",
    "\n",
    "lrparams = LearningRateParams(w,cf,cv)\n",
    "\n",
    "### Compile the function on a dummy run\n",
    "M0 = HePPCATModel(Matrix(qr!(randn(d,khat)).Q),rand(khat),I(khat),rand(L))\n",
    "Mstream2 = deepcopy(M0)\n",
    "Mstream2, Yrec2, stats_log2, err_log2, time_log2 = SHASTA_PCA1(Mstream2,Ymat,ΩY,groups,lrparams,δ,Fmeasure,stats_fcn)\n",
    "\n",
    "Random.seed!(0)\n",
    "for _=1:num_trials\n",
    "    M0 = HePPCATModel(Matrix(qr!(randn(d,khat)).Q),rand(khat),I(khat),rand(L))\n",
    "#     M0 = HePPCATModel(U,λ,I(k),rand(L))\n",
    "    Mstream2 = deepcopy(M0)\n",
    "    Mstream2, Yrec2, stats_log2, err_log2, time_log2 = SHASTA_PCA1(Mstream2,Ymat,ΩY,groups,lrparams,δ,Fmeasure,stats_fcn)\n",
    "    push!(shasta2_stats_trials,stats_log2)\n",
    "    push!(shasta2_err_trials,err_log2)\n",
    "    push!(shasta2_time_trials,time_log2)\n",
    "    push!(shasta2_models,Mstream2)\n",
    "end"
   ]
  },
  {
   "cell_type": "code",
   "execution_count": null,
   "metadata": {},
   "outputs": [],
   "source": [
    "include(\"plotting.jl\")"
   ]
  },
  {
   "cell_type": "code",
   "execution_count": null,
   "metadata": {},
   "outputs": [],
   "source": [
    "stats = [shasta2_stats_trials,shasta_stats_trials,batch_stats_trials]\n",
    "errs = [shasta2_err_trials,shasta_err_trials,batch_err_trials]\n",
    "times = [shasta2_time_trials,shasta_time_trials,batch_time_trials]\n",
    "labels = [\"SHASTA-PCA-1\",\"SHASTA-PCA-2\",\"Batch method\"]\n",
    "colors = Dict(\"SHASTA-PCA-1\"=>:lightblue,\"SHASTA-PCA-2\"=>:blue,\"Batch method\"=>:black)\n",
    "markers = Dict(\"SHASTA-PCA-1\"=>:circ,\"SHASTA-PCA-2\"=>:diamond,\"Batch method\"=>:rect)\n",
    "interval = Dict(\"SHASTA-PCA-1\"=>1000,\"SHASTA-PCA-2\"=>1000,\"Batch method\"=>1)"
   ]
  },
  {
   "cell_type": "code",
   "execution_count": null,
   "metadata": {},
   "outputs": [],
   "source": [
    "missing_rate = Int(round((1-missing)*100))\n",
    "# interval = [1000, 1]\n",
    "alpha = 0.05\n",
    "fontsize = 10\n",
    "figsize = (400,300)\n",
    "\n",
    "p1 = plottraces(errs,labels,colors,markers,interval,alpha,figsize,fontsize,\"Subspace Error: $missing_rate % observed\",\"Iteration\",:outerright,:log)\n",
    "hline!(p1,[Fmeasure(Mheppcat)],linestyle=:dash,width=2,color=:red,label=\"HePPCAT\")\n",
    "hline!(p1,[Fmeasure(Mppca)],linestyle=:dash,width=2,color=:green,label=\"PPCA\")\n",
    "\n",
    "figsize = (400,300)\n",
    "# colors = Dict(\"SHASTA-PCA-2\"=>:blue)\n",
    "p2 = plottraces(stats,labels,colors,markers,interval,alpha,figsize,fontsize,\"Log-likelihood: $missing_rate % observed\",\"Iteration\",false,:linear)\n",
    "hline!(p2,[stats_fcn(Mheppcat)],linestyle=:dash,width=2,color=:red,label=\"HePPCAT\")\n",
    "hline!(p2,[stats_fcn(Mppca)],linestyle=:dash,width=2,color=:green,label=\"PPCA\")\n",
    "\n",
    "ylims!(p2,(-1e5,1e4))\n",
    "p = plot(p2,p1,layout = @layout([q1{0.38w} q2]),size=(700,300),bottom_margin=5mm)\n",
    "# p = plot(p1,p2,layout = @layout([q1{0.5w} q2]),size=(800,300),bottom_margin=5mm)\n",
    "\n",
    "# file = \"shasta_results/online_algs_iteration-d_$d-n_$n-observedPercent_$missing_rate-v1_\" * @sprintf(\"%.2E\", v[1]) * \"-v2_\"* @sprintf(\"%.2E\", v[2]) * \".png\"\n",
    "# savefig(p,file)\n",
    "plot(p)"
   ]
  },
  {
   "cell_type": "code",
   "execution_count": null,
   "metadata": {},
   "outputs": [],
   "source": [
    "missing_rate = Int(round((1-missing)*100))\n",
    "p1 = plottimetraces(stats,times,labels,colors,markers,interval,alpha,figsize,fontsize,\"Log-likelihood w.r.t. full batch data: $missing_rate% observed\",\"Time (s)\",:outerright)\n",
    "# hline!(p1,[stats_fcn(Mheppcat)],linestyle=:dash,width=2,color=:red,label=\"HePPCAT\")\n",
    "# hline!(p1,[stats_fcn(Mppca)],linestyle=:dash,width=2,color=:green,label=\"PPCA\")\n",
    "xlims!(0,10)\n",
    "ylims!(-1e6,0)\n",
    "plot!(size=(450,250))\n",
    "file = \"/Users/kgilman/Desktop/streaming-hppca/Streaming-Heteroscedastic-PPCA/shasta_results/batch_log-likelihood-d_$d-n_$n-observedPercent_$missing_rate-v1_\" * @sprintf(\"%.2E\", v[1]) * \"-v2_\"* @sprintf(\"%.2E\", v[2]) * \".png\"\n",
    "# savefig(p1,file)\n",
    "plot(p1)"
   ]
  },
  {
   "cell_type": "code",
   "execution_count": null,
   "metadata": {},
   "outputs": [],
   "source": [
    "missing_rate = Int(round((1-missing)*100))\n",
    "p1 = plottimetraces(errs,times,labels,colors,markers,interval,alpha,figsize,fontsize,\"Subspace Error: $missing_rate% observed\",\"Time (s)\",:outerright,:log)\n",
    "# hline!(p1,[Fmeasure(Mheppcat)],linestyle=:dash,width=2,color=:red,label=\"HePPCAT\")\n",
    "# hline!(p1,[Fmeasure(Mppca)],linestyle=:dash,width=2,color=:green,label=\"PPCA\")\n",
    "xlims!(0,8)\n",
    "plot!(size=(450,250))\n",
    "file = \"/Users/kgilman/Desktop/streaming-hppca/Streaming-Heteroscedastic-PPCA/shasta_results/batch_subspace-distance-d_$d-n_$n-observedPercent_$missing_rate-v1_\" * @sprintf(\"%.2E\", v[1]) * \"-v2_\"* @sprintf(\"%.2E\", v[2]) * \".png\"\n",
    "# savefig(p1,file)\n",
    "plot(p1)"
   ]
  },
  {
   "cell_type": "code",
   "execution_count": null,
   "metadata": {},
   "outputs": [],
   "source": [
    "Mstream.v"
   ]
  },
  {
   "cell_type": "code",
   "execution_count": null,
   "metadata": {},
   "outputs": [],
   "source": [
    "Mstream2.v"
   ]
  },
  {
   "cell_type": "code",
   "execution_count": null,
   "metadata": {},
   "outputs": [],
   "source": [
    "Mbatch.v"
   ]
  },
  {
   "cell_type": "code",
   "execution_count": null,
   "metadata": {},
   "outputs": [],
   "source": [
    "abs.(Mstream.v - Mtrue.v) ./ Mtrue.v"
   ]
  },
  {
   "cell_type": "code",
   "execution_count": null,
   "metadata": {},
   "outputs": [],
   "source": [
    "abs.(Mstream2.v - Mtrue.v) ./ Mtrue.v"
   ]
  },
  {
   "cell_type": "code",
   "execution_count": null,
   "metadata": {},
   "outputs": [],
   "source": []
  },
  {
   "cell_type": "code",
   "execution_count": null,
   "metadata": {},
   "outputs": [],
   "source": []
  }
 ],
 "metadata": {
  "@webio": {
   "lastCommId": null,
   "lastKernelId": null
  },
  "kernelspec": {
   "display_name": "Julia 1.6.1",
   "language": "julia",
   "name": "julia-1.6"
  },
  "language_info": {
   "file_extension": ".jl",
   "mimetype": "application/julia",
   "name": "julia",
   "version": "1.6.1"
  }
 },
 "nbformat": 4,
 "nbformat_minor": 2
}
